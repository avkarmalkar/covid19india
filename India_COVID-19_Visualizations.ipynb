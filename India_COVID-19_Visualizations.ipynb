{
 "cells": [
  {
   "cell_type": "markdown",
   "metadata": {},
   "source": [
    "# India COVID-19 Visualizations\n",
    "## Ambarish Karmalkar"
   ]
  },
  {
   "cell_type": "code",
   "execution_count": null,
   "metadata": {},
   "outputs": [],
   "source": [
    "import datetime, math\n",
    "import numpy as np\n",
    "import pandas as pd\n",
    "import matplotlib\n",
    "import matplotlib.pyplot as plt\n",
    "%matplotlib inline\n",
    "import seaborn as sns"
   ]
  },
  {
   "cell_type": "code",
   "execution_count": null,
   "metadata": {},
   "outputs": [],
   "source": [
    "print('PAGE LAST UPDATED:\\n' + str( datetime.datetime.today().strftime ('%d %b %Y') ))"
   ]
  },
  {
   "cell_type": "markdown",
   "metadata": {},
   "source": [
    "## +++ Data Information"
   ]
  },
  {
   "cell_type": "markdown",
   "metadata": {},
   "source": [
    "Data source: https://www.covid19india.org/<br>\n",
    "Data files: https://api.covid19india.org/<br>"
   ]
  },
  {
   "cell_type": "markdown",
   "metadata": {},
   "source": [
    "## +++ Code"
   ]
  },
  {
   "cell_type": "markdown",
   "metadata": {},
   "source": [
    "## Data Files to Fetch"
   ]
  },
  {
   "cell_type": "code",
   "execution_count": null,
   "metadata": {},
   "outputs": [],
   "source": [
    "# Files\n",
    "url_state_wise         = 'https://api.covid19india.org/csv/latest/state_wise.csv'        # Statewise data summaries\n",
    "url_case_time_series   = 'https://api.covid19india.org/csv/latest/case_time_series.csv'  # India daily cases data \n",
    "url_state_wise_daily   = 'https://api.covid19india.org/csv/latest/state_wise_daily.csv'  # Statewise daily cases data\n",
    "url_state_tested_daily = 'https://api.covid19india.org/csv/latest/statewise_tested_numbers_data.csv' # Statewise daily testing data"
   ]
  },
  {
   "cell_type": "markdown",
   "metadata": {},
   "source": [
    "## Read Data"
   ]
  },
  {
   "cell_type": "markdown",
   "metadata": {},
   "source": [
    "### Population"
   ]
  },
  {
   "cell_type": "code",
   "execution_count": null,
   "metadata": {},
   "outputs": [],
   "source": [
    "# Source: https://statisticstimes.com/demographics/india/indian-states-population.php\n",
    "# Original source: https://uidai.gov.in/images/state-wise-aadhaar-saturation.pdf\n",
    "population_csv = 'data/India_states_population.csv'\n",
    "df_state_pop = pd.read_csv(population_csv, thousands=',')\n",
    "df_state_pop = df_state_pop[['State','2019']]\n",
    "df_state_pop['2019'] = df_state_pop['2019'].astype(float)\n",
    "df_state_pop.rename(columns={'2019': 'Population'}, inplace=True)\n",
    "\n",
    "# Add row with total for India\n",
    "df_state_pop.loc[len(df_state_pop.index)] = ['Total', df_state_pop['Population'].sum()] \n",
    "df_state_pop.head()"
   ]
  },
  {
   "cell_type": "markdown",
   "metadata": {},
   "source": [
    "### Read statewise data summaries"
   ]
  },
  {
   "cell_type": "code",
   "execution_count": null,
   "metadata": {},
   "outputs": [],
   "source": [
    "# Read statewise data summaries\n",
    "df_state_summary = pd.read_csv(url_state_wise)\n",
    "df_state_summary.head()"
   ]
  },
  {
   "cell_type": "code",
   "execution_count": null,
   "metadata": {},
   "outputs": [],
   "source": [
    "# State codes\n",
    "state2code = dict(zip(df_state_summary['State_code'], df_state_summary['State']))\n",
    "state2code['TT'] = 'INDIA'\n",
    "state2code['DN'] = 'DNH DD'\n",
    "state2code['AN'] = 'Andaman Nicobar'\n",
    "\n",
    "# Extract and sort data based on total cases per state since the pandemic began.\n",
    "state2conf = dict(zip(df_state_summary['State_code'], df_state_summary['Confirmed']))\n",
    "state2conf = {k: v for k, v in reversed(sorted(state2conf.items(), key=lambda item: item[1]))}\n",
    "\n",
    "# Extract and sort data based on total cases per state since the pandemic began.\n",
    "state2death = dict(zip(df_state_summary['State_code'], df_state_summary['Deaths']))\n",
    "state2death = {k: v for k, v in reversed(sorted(state2death.items(), key=lambda item: item[1]))}"
   ]
  },
  {
   "cell_type": "code",
   "execution_count": null,
   "metadata": {},
   "outputs": [],
   "source": [
    "df_state_summary = pd.merge(df_state_summary, df_state_pop, on='State', how='outer')\n",
    "df_state_summary.head()"
   ]
  },
  {
   "cell_type": "markdown",
   "metadata": {},
   "source": [
    "### Statewise daily data"
   ]
  },
  {
   "cell_type": "code",
   "execution_count": null,
   "metadata": {},
   "outputs": [],
   "source": [
    "# State-wise + India daily\n",
    "df_state_dly = pd.read_csv(url_state_wise_daily)\n",
    "df_state_dly.tail()"
   ]
  },
  {
   "cell_type": "code",
   "execution_count": null,
   "metadata": {},
   "outputs": [],
   "source": [
    "#Extract 'confirmed' cases data\n",
    "df_conf_dly = df_state_dly[ df_state_dly['Status']=='Confirmed' ]\n",
    "df_conf_dly.reset_index(drop=True, inplace=True)"
   ]
  },
  {
   "cell_type": "code",
   "execution_count": null,
   "metadata": {},
   "outputs": [],
   "source": [
    "# Drop columns: Unassigned\n",
    "dontPlot = ['UN']\n",
    "df_conf_dly = df_conf_dly.drop(dontPlot, 1)\n",
    "\n",
    "for key in dontPlot:\n",
    "    del state2conf[key]"
   ]
  },
  {
   "cell_type": "code",
   "execution_count": null,
   "metadata": {},
   "outputs": [],
   "source": [
    "df_conf_dly.head()"
   ]
  },
  {
   "cell_type": "code",
   "execution_count": null,
   "metadata": {},
   "outputs": [],
   "source": [
    "# Get the start and end dates\n",
    "sdate = df_conf_dly['Date'].iloc[0]\n",
    "sdate = '%s %s %d' % (sdate.split('-')[0], sdate.split('-')[1], int(sdate.split('-')[2])+2000)\n",
    "edate = df_conf_dly['Date'].iloc[-1]\n",
    "edate = '%s %s %d' % (edate.split('-')[0], edate.split('-')[1], int(edate.split('-')[2])+2000)\n",
    "\n",
    "# End date in different format (with month number)\n",
    "sdate_monnum = df_conf_dly['Date_YMD'].iloc[0]\n",
    "sdate_monnum = '%s/%s/%s' % (sdate_monnum.split('-')[2], sdate_monnum.split('-')[1], sdate_monnum.split('-')[0])\n",
    "edate_monnum = df_conf_dly['Date_YMD'].iloc[-1]\n",
    "edate_monnum = '%s/%s/%s' % (edate_monnum.split('-')[2], edate_monnum.split('-')[1], edate_monnum.split('-')[0])\n",
    "\n",
    "print('Data start date: %s (%s)' % (sdate, sdate_monnum)) \n",
    "print('Data end date  : %s (%s)' % (edate, edate_monnum))"
   ]
  },
  {
   "cell_type": "markdown",
   "metadata": {},
   "source": [
    "### Figure 1:<a id=fig1></a><br><br>A simple summary plot showing how the confirmed daily cases are progressing in every state since Mar 2020. The states are ordered according to the total number of cases recorded so far and the colors indicate the magnitude daily values."
   ]
  },
  {
   "cell_type": "code",
   "execution_count": null,
   "metadata": {
    "code_folding": []
   },
   "outputs": [],
   "source": [
    "matplotlib.rcParams.update(matplotlib.rcParamsDefault)\n",
    "def plotAllStatesTimeSeries(df, df_summary, state2conf, ft=12, showy=False, perCapita=False, saveFig=True):\n",
    "    # ++++++ \n",
    "    # This block sets limits and colors that are hardwired at the moment\n",
    "    thresh       = [500., 1000., 5000., 10000., 20000., 40000., 70000.,]\n",
    "    threshcols   = ['lightgrey','#7fc97f','#beaed4','#fdc086','#386cb0','#bf5b17','#f0027f'] \n",
    "    threshlabels = []\n",
    "    for yy in thresh:\n",
    "        if yy>=1000.:\n",
    "            threshlabels.append( '{:,.0f}'.format(int(yy/1000.)) + 'k' )\n",
    "        else:\n",
    "            threshlabels.append( str(int(yy)) )\n",
    "    # ++++++\n",
    "    \n",
    "    fig = plt.figure(figsize=(18,8))\n",
    "    nr = 5; nc = 8; kk = 1\n",
    "    for st in state2conf:\n",
    "        ax = plt.subplot(nr, nc, kk)\n",
    "        maxval = df[st].max()\n",
    "        \n",
    "        multFactor = 1.0\n",
    "        nameExt = ''\n",
    "        if perCapita:\n",
    "            state_population = df_summary[ df_summary['State_code']==st ]['Population'].iloc[0]   \n",
    "            multFactor = 100000./state_population # calculating cases per 100k people\n",
    "            maxval = maxval * multFactor\n",
    "            nameExt = 'per 100,000 people'\n",
    "        \n",
    "        if perCapita:\n",
    "            showy=True\n",
    "        \n",
    "        # Setting based on whether y-range is show on the plot or in legend\n",
    "        if showy:\n",
    "            if perCapita:\n",
    "                yulim = maxval\n",
    "                ytickvals = [yulim]\n",
    "                yticklabs = [str(int(maxval))]\n",
    "            else:\n",
    "                yulim = int(math.ceil(maxval/1000.0)) * 1000\n",
    "                ytickvals = [yulim]\n",
    "                yticklabs = ['{:,.0f}'.format(int(yulim/1000.)) + 'k']\n",
    "            col = 'skyblue'\n",
    "            yOnRight = True\n",
    "            wspace = 0.4\n",
    "            hspace = 0.3\n",
    "            alpha  = 1\n",
    "        else:\n",
    "            if maxval<=thresh[0]: col=threshcols[0]; yulim = thresh[0]\n",
    "            if (maxval>thresh[0]) and (maxval<=thresh[1]): col=threshcols[1]; yulim = thresh[1]\n",
    "            if (maxval>thresh[1]) and (maxval<=thresh[2]): col=threshcols[2]; yulim = thresh[2]\n",
    "            if (maxval>thresh[2]) and (maxval<=thresh[3]): col=threshcols[3]; yulim = thresh[3]\n",
    "            if (maxval>thresh[3]) and (maxval<=thresh[4]): col=threshcols[4]; yulim = thresh[4]\n",
    "            if (maxval>thresh[4]) and (maxval<=thresh[5]): col=threshcols[5]; yulim = thresh[5]\n",
    "            if (maxval>thresh[5]): col=threshcols[6]; yulim = thresh[6]\n",
    "            ytickvals = []\n",
    "            yticklabs = []\n",
    "            yOnRight = False\n",
    "            wspace = 0\n",
    "            hspace = 0\n",
    "            alpha  = 1\n",
    "\n",
    "        if st=='TT':\n",
    "            col='k'\n",
    "            if perCapita:\n",
    "                yulim = maxval\n",
    "            else:\n",
    "                yulim = int(math.ceil(maxval/1000.0)) * 1000 #300000.\n",
    "            \n",
    "        # Line plot\n",
    "        #ax = sns.lineplot(x=\"Date\", y=st, data=df, color='w', lw=1, alpha=0)\n",
    "        #l1 = ax.lines[0]\n",
    "        #x1 = l1.get_xydata()[:,0]\n",
    "        #y1 = l1.get_xydata()[:,1]\n",
    "        #ax.fill_between(x1,y1, color=col, alpha=alpha)\n",
    "        \n",
    "        ax.fill_between(df['Date'], df[st]*multFactor, color=col, alpha=alpha)\n",
    "        ax.set_xticks([]) \n",
    "        ax.set_xticklabels([])\n",
    "            \n",
    "        ax.set_ylim(0, yulim)\n",
    "        ax.set_yticks(ytickvals)\n",
    "        #ax.tick_params(axis=\"y\",direction=\"in\", pad=-22)\n",
    "        ax.set_yticklabels(yticklabs)\n",
    "        if st=='TT': yulim_tt = yulim     # save separately to add to the legend\n",
    "        if showy: ax.yaxis.tick_right()\n",
    "\n",
    "        ax.set_title(state2code[st]+'\\n%s' % f'{state2conf[st]:,}', fontsize=10,\\\n",
    "                     y=0.95, x=0.04, ha='left', pad=-18) #, backgroundcolor='lightgrey', color='black')\n",
    "        ax.set_xlabel('')\n",
    "        ax.set_ylabel('')\n",
    "        plt.setp(ax.spines.values(), color='lightgrey')\n",
    "\n",
    "        ax.spines['top'].set_visible(False)\n",
    "        ax.spines['right'].set_visible(yOnRight)\n",
    "        ax.spines['bottom'].set_visible(False)\n",
    "        ax.spines['left'].set_visible(False)\n",
    "\n",
    "        kk += 1\n",
    "        \n",
    "    # Legend\n",
    "    if not showy:\n",
    "        from matplotlib.patches import Patch\n",
    "        legend_elements = [ Patch(facecolor=col, edgecolor='grey', label=threshlabels[cc]) for cc, col in enumerate(threshcols) ]\n",
    "        legend_elements = legend_elements + [Patch(facecolor='k', edgecolor='grey', label='{:,.0f}'.format(int(yulim_tt/1000.)) + 'k')]\n",
    "        plt.gcf().legend(handles=legend_elements[::-1], ncol=2, fontsize=ft, title='Daily cases max (y-limit)',\\\n",
    "                  bbox_to_anchor=(0.62,0.225), fancybox=True) #, bbox_transform=plt.gcf().transFigure\n",
    "\n",
    "    # Super title\n",
    "    # Get the data start and end dates\n",
    "    sdate = df_conf_dly['Date'].iloc[0]\n",
    "    sdate = '%s %s %d' % (sdate.split('-')[0], sdate.split('-')[1], int(sdate.split('-')[2])+2000)\n",
    "    edate = df_conf_dly['Date'].iloc[-1]\n",
    "    edate = '%s %s %d' % (edate.split('-')[0], edate.split('-')[1], int(edate.split('-')[2])+2000)\n",
    "    plt.suptitle('COVID-19 in India  /  Daily New Cases %s /  [%s - %s]' % (nameExt, sdate, edate), fontsize=ft+2,\\\n",
    "                 bbox=dict(facecolor='snow', edgecolor='black', boxstyle='round,pad=0.3'))#backgroundcolor='lightgrey', color='k')\n",
    "    plt.subplots_adjust(top=0.92)\n",
    "\n",
    "    # Data source text\n",
    "    dateNow = str( datetime.datetime.today().strftime ('%d %b %Y') )\n",
    "    otherText = r'$\\bf{Data}$: covid19india.org'+'\\n'+r'$\\bf{Last~update}$: %s' % dateNow\n",
    "    ann = plt.figtext(0.76, 0.13, otherText, fontsize=ft,\\\n",
    "             bbox=dict(facecolor='none', edgecolor='black', boxstyle='round,pad=0.5'))\n",
    "    \n",
    "    plt.subplots_adjust(wspace=wspace, hspace=hspace)\n",
    "    plt.show()\n",
    "    \n",
    "    # Save png\n",
    "    if saveFig:\n",
    "        if perCapita:\n",
    "            nameExt = '_perCapita'\n",
    "        elif showy:\n",
    "            nameExt = '_showy'\n",
    "        else:\n",
    "            nameExt = ''\n",
    "        fig.savefig('plots/daily_confirmed%s.png' % nameExt, dpi=360, bbox_inches=\"tight\")"
   ]
  },
  {
   "cell_type": "code",
   "execution_count": null,
   "metadata": {},
   "outputs": [],
   "source": [
    "# Plot\n",
    "plotAllStatesTimeSeries(df_conf_dly, df_state_summary, state2conf, showy=False)"
   ]
  },
  {
   "cell_type": "code",
   "execution_count": null,
   "metadata": {},
   "outputs": [],
   "source": [
    "# Plot\n",
    "plotAllStatesTimeSeries(df_conf_dly, df_state_summary, state2conf, perCapita=True)"
   ]
  },
  {
   "cell_type": "code",
   "execution_count": null,
   "metadata": {},
   "outputs": [],
   "source": [
    "# Plot\n",
    "plotAllStatesTimeSeries(df_conf_dly, df_state_summary, state2conf, showy=True)"
   ]
  },
  {
   "cell_type": "markdown",
   "metadata": {},
   "source": [
    "### Daily testing vs. cases"
   ]
  },
  {
   "cell_type": "code",
   "execution_count": null,
   "metadata": {},
   "outputs": [],
   "source": [
    "# Tests per state data\n",
    "df_state_testing = pd.read_csv(url_state_tested_daily)\n",
    "df_state_testing = df_state_testing[ ['Updated On', 'State', 'Total Tested'] ]\n",
    "#df_state_testing.head()\n",
    "\n",
    "# Get the number for the last day in the dataset\n",
    "df_state_testing_lastday = df_state_testing[ (df_state_testing['Updated On']==edate_monnum) ] \n",
    "#df_state_testing_lastday.head()\n",
    "\n",
    "# Create a new dataframe with require information\n",
    "df_state_summary_new = df_state_summary[ ['State_code','State','Confirmed'] ]\n",
    "#df_state_summary_new.head()\n",
    "\n",
    "# Merge testing data with state case summary data\n",
    "df_test_conf = pd.merge(df_state_testing_lastday, df_state_summary_new, on='State', how='outer')\n",
    "df_test_conf.head()"
   ]
  },
  {
   "cell_type": "markdown",
   "metadata": {},
   "source": [
    "### Figure 2:<a id=fig2></a><br><br>Number of daily cases per state plotted again the number tests done for TODAY"
   ]
  },
  {
   "cell_type": "code",
   "execution_count": null,
   "metadata": {},
   "outputs": [],
   "source": [
    "%matplotlib inline\n",
    "\n",
    "ft = 16\n",
    "matplotlib.rcParams.update({'font.size':ft})\n",
    "showText=True\n",
    "\n",
    "if showText:\n",
    "    mcolor = 'w'; alpha=0\n",
    "else:\n",
    "    mcolor = 'darkred'; alpha=0.6\n",
    "\n",
    "fig = plt.figure(figsize=(6, 6))\n",
    "ax  = plt.subplot(111)\n",
    "splot = sns.regplot(x='Total Tested', y='Confirmed', data=df_test_conf, fit_reg=False,\\\n",
    "                    marker='o', color=mcolor, scatter_kws={'alpha':alpha, 's':100})\n",
    "splot = splot.set(xscale=\"log\", yscale=\"log\")\n",
    "\n",
    "if showText:\n",
    "    for line in range(0, df_test_conf.shape[0]):\n",
    "        if np.isfinite(df_test_conf['Total Tested'][line]):\n",
    "            ax.text(df_test_conf['Total Tested'][line], df_test_conf['Confirmed'][line], df_test_conf['State_code'][line],\\\n",
    "                    horizontalalignment='center', size='small', color='black', fontsize=ft-2) #, weight='semibold'\n",
    "        \n",
    "plt.title('COVID-19 in India  |  %s\\nTests vs. Cases, Statewise' % edate, fontsize=ft)\n",
    "plt.xlabel('Total Tested', fontsize=ft)\n",
    "plt.ylabel('New Confirmed Cases', fontsize=ft)\n",
    "plt.grid(ls='--', color='lightgrey')\n",
    "\n",
    "otherText = r'$\\bf{Data}$: covid19india.org' #+'\\n'+r'$\\bf{Graphic:}$ @kar_amb'\n",
    "ann = plt.figtext(0.5, 0.15, otherText, fontsize=ft-2,\\\n",
    "                  bbox=dict(facecolor='none', edgecolor='white')) #, boxstyle='none,pad=0.5'))\n",
    "\n",
    "fig.savefig('plots/daily_tested_vs_confirmed.png', dpi=360, bbox_inches=\"tight\")\n",
    "\n",
    "#ax.set_xlim(1e6, 1e8)\n",
    "#ax.set_ylim(1e5, 1e7)"
   ]
  },
  {
   "cell_type": "markdown",
   "metadata": {},
   "source": [
    "### Case time series data"
   ]
  },
  {
   "cell_type": "code",
   "execution_count": null,
   "metadata": {},
   "outputs": [],
   "source": [
    "## Read case time series data from the beginning of the pandemic\n",
    "#df = pd.read_csv(url_case_time_series)\n",
    "#\n",
    "#dates = [rr for rr, row in enumerate(df['Date_YMD']) if row.split('-')[-1]=='01']\n",
    "#datenames = df['Date'][dates]\n",
    "#datenames = ['%s %s\\n%s' % (dt.split(' ')[1][:3], dt.split(' ')[0], dt.split(' ')[2]) for dt in datenames]\n",
    "#\n",
    "#df.head()"
   ]
  }
 ],
 "metadata": {
  "kernelspec": {
   "display_name": "Python 3",
   "language": "python",
   "name": "python3"
  },
  "language_info": {
   "codemirror_mode": {
    "name": "ipython",
    "version": 3
   },
   "file_extension": ".py",
   "mimetype": "text/x-python",
   "name": "python",
   "nbconvert_exporter": "python",
   "pygments_lexer": "ipython3",
   "version": "3.8.2"
  }
 },
 "nbformat": 4,
 "nbformat_minor": 4
}
